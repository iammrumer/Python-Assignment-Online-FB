{
 "cells": [
  {
   "cell_type": "code",
   "execution_count": 44,
   "id": "58c23ad9",
   "metadata": {},
   "outputs": [
    {
     "name": "stdout",
     "output_type": "stream",
     "text": [
      "Enter English Score: 40\n",
      "Enter Urdu Score: 40\n",
      "Enter Math Score: 40\n",
      "Your Total Score is 120\n",
      "Grade D\n"
     ]
    }
   ],
   "source": [
    "try:\n",
    "    Eng = int(input(\"Enter English Score: \"));\n",
    "    Isl = int(input(\"Enter Urdu Score: \"));\n",
    "    Math =int(input(\"Enter Math Score: \"));\n",
    "    if Eng >=0 and Isl>=0 and Math>=0 and Eng <= 100 and Isl <= 100 and Math <= 100:\n",
    "        Total = Eng + Isl + Math;\n",
    "        print(\"Your Total Score is \"+ str(Total))\n",
    "        percentage = Total / 300 * 100;\n",
    "        if percentage <=100 and percentage >= 80:\n",
    "            print(\"Grade A+\");\n",
    "        elif percentage < 80 and percentage >= 70:\n",
    "            print(\"Grade A\");\n",
    "        elif percentage < 70 and percentage >= 60:\n",
    "            print(\"Grade B\");\n",
    "        elif percentage < 60 and percentage >= 50:\n",
    "            print(\"Grade C\");\n",
    "        elif percentage < 50 and percentage >= 40:\n",
    "            print(\"Grade D\");\n",
    "        elif percentage < 40 and percentage >=33:\n",
    "            print(\"Grade E\");\n",
    "        else:\n",
    "            print(\"Sorry you are Fail\")\n",
    "    else:\n",
    "        print(\"Score can not be in minus sign and Above from 100\")\n",
    "    \n",
    "except ValueError:\n",
    "    print(\"Please input number only\")\n",
    "\n",
    "\n",
    "        \n",
    "\n"
   ]
  }
 ],
 "metadata": {
  "kernelspec": {
   "display_name": "Python 3",
   "language": "python",
   "name": "python3"
  },
  "language_info": {
   "codemirror_mode": {
    "name": "ipython",
    "version": 3
   },
   "file_extension": ".py",
   "mimetype": "text/x-python",
   "name": "python",
   "nbconvert_exporter": "python",
   "pygments_lexer": "ipython3",
   "version": "3.8.8"
  }
 },
 "nbformat": 4,
 "nbformat_minor": 5
}
