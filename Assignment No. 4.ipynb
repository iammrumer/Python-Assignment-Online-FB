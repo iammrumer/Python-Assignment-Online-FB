{
 "cells": [
  {
   "cell_type": "markdown",
   "id": "413ac3a9",
   "metadata": {},
   "source": [
    "1. Make a calculator using Python with addition , subtraction ,\n",
    "multiplication ,division and power."
   ]
  },
  {
   "cell_type": "code",
   "execution_count": 1,
   "id": "2a5d700e",
   "metadata": {},
   "outputs": [
    {
     "name": "stdout",
     "output_type": "stream",
     "text": [
      "Select Operation\n",
      "1 for Addition\n",
      "2 for Substraction\n",
      "3 for Mutiplication\n",
      "4 for division\n",
      "5 for power\n",
      "Enter your Selction 1/2/3/4/5: \n",
      "No input\n",
      "Enter your Selction 1/2/3/4/5: \n",
      "No input\n",
      "Enter your Selction 1/2/3/4/5: \n",
      "No input\n",
      "Enter your Selction 1/2/3/4/5: 5\n",
      "Enter first Number: 5\n",
      "Enter second Number: 5\n",
      "5.0 ^ 5.0 = 3125.0\n",
      "Let's do next calculation (y/n): 5\n",
      "Enter your Selction 1/2/3/4/5: N5\n",
      "No input\n",
      "Enter your Selction 1/2/3/4/5: 5\n",
      "Enter first Number: 10\n",
      "Enter second Number: 10\n",
      "10.0 ^ 10.0 = 10000000000.0\n",
      "Let's do next calculation (y/n): N\n"
     ]
    }
   ],
   "source": [
    "def addition (x,y):\n",
    "    return x+y\n",
    "\n",
    "def substraction (x,y):\n",
    "    return x-y\n",
    "\n",
    "def mutiplication (x,y):\n",
    "    return x*y\n",
    "\n",
    "def division (x,y):\n",
    "    return x/y\n",
    "\n",
    "def power (x,y):\n",
    "    return x**y\n",
    "\n",
    "print(\"Select Operation\")\n",
    "print(\"1 for Addition\")\n",
    "print(\"2 for Substraction\")\n",
    "print(\"3 for Mutiplication\")\n",
    "print(\"4 for division\")\n",
    "print(\"5 for power\")\n",
    "\n",
    "while True:\n",
    "    choose = input(\"Enter your Selction 1/2/3/4/5: \" )\n",
    "    if choose in ('1','2','3','4','5'):\n",
    "        num1=float(input(\"Enter first Number: \"))\n",
    "        num2=float(input(\"Enter second Number: \"))\n",
    "        \n",
    "        if choose =='1':\n",
    "            print(num1, \"+\" ,num2, \"=\",addition(num1,num2))\n",
    "        elif choose =='2':\n",
    "            print(num1, \"-\" ,num2, \"=\",substraction(num1,num2))\n",
    "        elif choose =='3':\n",
    "            print(num1, \"x\" ,num2, \"=\",multiplication(num1,num2))\n",
    "        elif choose =='4':\n",
    "            print(num1, \"/\" ,num2, \"=\",division(num1,num2))\n",
    "        elif choose =='5':\n",
    "            print(num1, \"^\" ,num2, \"=\",power(num1,num2))\n",
    "            \n",
    "        next_cal=input(\"Let's do next calculation (y/n): \")\n",
    "        next_cal=next_cal.lower()\n",
    "        if next_cal==\"n\":\n",
    "            break\n",
    "    else:\n",
    "        print(\"No input\")\n",
    "        \n",
    "    "
   ]
  },
  {
   "cell_type": "markdown",
   "id": "a3db95fe",
   "metadata": {},
   "source": [
    "2. Write a program to check if there is any numeric value in list using for\n",
    "loop."
   ]
  },
  {
   "cell_type": "code",
   "execution_count": 25,
   "id": "ad13a66b",
   "metadata": {},
   "outputs": [
    {
     "name": "stdout",
     "output_type": "stream",
     "text": [
      "The list Contains Numeric Value is:  15\n",
      "The list Contains Numeric Value is:  20\n",
      "__________________________________\n",
      "\n",
      "The list Contains Numeric Value is:  15\n",
      "The list Contains Numeric Value is:  20\n",
      "The list Contains Numeric Value is:  30\n",
      "The list Contains Numeric Value is:  40\n",
      "The list Contains Numeric Value is:  50\n",
      "__________________________________\n",
      "\n",
      "__________________________________\n",
      "\n"
     ]
    }
   ],
   "source": [
    "def num_check(x):\n",
    "    for a in x:\n",
    "        if type(a) ==int:\n",
    "            print(\"The list Contains Numeric Value is: \", a)\n",
    "\n",
    "\n",
    "list1=[15,20,\"abc\",\"def\",\"git\"]\n",
    "list2=[15,20,30,40,50]\n",
    "list3=[\"abc\",\"def\",\"git\"]\n",
    "\n",
    "num_check(list1)\n",
    "print(\"__________________________________\")\n",
    "print(\"\")\n",
    "\n",
    "num_check(list2)\n",
    "print(\"__________________________________\")\n",
    "print(\"\")\n",
    "\n",
    "num_check(list3)\n",
    "print(\"__________________________________\")\n",
    "print(\"\")"
   ]
  },
  {
   "cell_type": "markdown",
   "id": "f9bb5f5f",
   "metadata": {},
   "source": [
    "Write a Python script to add a key to a dictionary."
   ]
  },
  {
   "cell_type": "code",
   "execution_count": 13,
   "id": "f0e11877",
   "metadata": {},
   "outputs": [
    {
     "name": "stdout",
     "output_type": "stream",
     "text": [
      "Enter your key: numneric\n",
      "Enter your Value5\n",
      "{'ali': 2, 2: 'Mux', 'numneric': '5'}\n"
     ]
    }
   ],
   "source": [
    "mydic = {\n",
    "    \"ali\":2,\n",
    "    2 : \"Mux\"\n",
    "}\n",
    "\n",
    "key = input(\"Enter your key: \")\n",
    "value = input(\"Enter your Value\")\n",
    "mydic[key] = value\n",
    "\n",
    "print(mydic)\n",
    "\n",
    "\n",
    "\n"
   ]
  },
  {
   "cell_type": "markdown",
   "id": "e50d9327",
   "metadata": {},
   "source": [
    "4. Write a Python program to sum all the numeric items in a dictionary."
   ]
  },
  {
   "cell_type": "code",
   "execution_count": 23,
   "id": "ef890f50",
   "metadata": {},
   "outputs": [
    {
     "name": "stdout",
     "output_type": "stream",
     "text": [
      "2200\n"
     ]
    }
   ],
   "source": [
    "def dicsum(x):\n",
    "    print(sum(x.values()))\n",
    "    \n",
    "\n",
    "my_dict = {'num1':1500,'num2':500,'num3':200}\n",
    "\n",
    "dicsum(my_dict)"
   ]
  },
  {
   "cell_type": "markdown",
   "id": "80109e02",
   "metadata": {},
   "source": [
    "5. Write a program to identify duplicate values from list."
   ]
  },
  {
   "cell_type": "code",
   "execution_count": 25,
   "id": "2566df5b",
   "metadata": {},
   "outputs": [
    {
     "name": "stdout",
     "output_type": "stream",
     "text": [
      "[20, 30, -20, 60]\n"
     ]
    }
   ],
   "source": [
    "def dup(x):\n",
    "    value = len(x)\n",
    "    duplicate = []\n",
    "    for i in range(value):\n",
    "        k = i + 1\n",
    "        for j in range(k, value):\n",
    "            if x[i] == x[j] and x[i] not in duplicate:\n",
    "                duplicate.append(x[i])\n",
    "    return duplicate\n",
    " \n",
    "# Driver Code\n",
    "list1 = [10, 20, 30, 20, 20, 30, 40,\n",
    "         50, -20, 60, 60, -20, -20]\n",
    "print (dup(list1))"
   ]
  },
  {
   "cell_type": "markdown",
   "id": "b7b57417",
   "metadata": {},
   "source": [
    "6. Write a Python script to check if a given key already exists in a\n",
    "dictionary"
   ]
  },
  {
   "cell_type": "code",
   "execution_count": 33,
   "id": "7cc8992e",
   "metadata": {},
   "outputs": [
    {
     "name": "stdout",
     "output_type": "stream",
     "text": [
      "Key is not present in the dictionary\n",
      "Key is not present in the dictionary\n"
     ]
    }
   ],
   "source": [
    "\n",
    "d = {1: 10, 2: 20, 3: 30, 4: 40, 5: 50, 6: 60}\n",
    "def is_key_present(x):\n",
    "    if x in d:\n",
    "        print('Key is present in the dictionary')\n",
    "    else:\n",
    "        print('Key is not present in the dictionary')\n",
    "is_key_present(40)\n",
    "is_key_present(9)"
   ]
  },
  {
   "cell_type": "code",
   "execution_count": null,
   "id": "97972ccf",
   "metadata": {},
   "outputs": [],
   "source": []
  }
 ],
 "metadata": {
  "kernelspec": {
   "display_name": "Python 3",
   "language": "python",
   "name": "python3"
  },
  "language_info": {
   "codemirror_mode": {
    "name": "ipython",
    "version": 3
   },
   "file_extension": ".py",
   "mimetype": "text/x-python",
   "name": "python",
   "nbconvert_exporter": "python",
   "pygments_lexer": "ipython3",
   "version": "3.8.8"
  }
 },
 "nbformat": 4,
 "nbformat_minor": 5
}
