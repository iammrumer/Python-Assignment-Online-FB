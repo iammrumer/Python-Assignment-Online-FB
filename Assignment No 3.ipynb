{
 "cells": [
  {
   "cell_type": "markdown",
   "id": "53ec6de5",
   "metadata": {},
   "source": [
    "# Assignmnet # 3\n",
    "\n",
    "# Full Name = Umer Muhammad Iqbal\n",
    "# Email: umermuhammadiqbal@gmail.com"
   ]
  },
  {
   "cell_type": "code",
   "execution_count": 2,
   "id": "476a98f2",
   "metadata": {},
   "outputs": [],
   "source": [
    "# 1. Write a Python program to print the following string in a specific format (see the output).\n",
    "# Twinkle, twinkle, little star,\n",
    "# How I wonder what you are!\n",
    "# Up above the world so high,\n",
    "# Like a diamond in the sky.\n",
    "# Twinkle, twinkle, little star,\n",
    "# How I wonder what you are"
   ]
  },
  {
   "cell_type": "code",
   "execution_count": 27,
   "id": "0445b1ce",
   "metadata": {},
   "outputs": [
    {
     "name": "stdout",
     "output_type": "stream",
     "text": [
      "Twinkle, twinkle, little star,\n",
      "\t How I wonder what you are!\n",
      "\t\t Up above the world so high,\n",
      "\t\t Like a diamond in the sky.\n",
      "Twinkle, twinkle, little star,\n",
      "\t How I wonder what you are\n"
     ]
    }
   ],
   "source": [
    "print(\"Twinkle, twinkle, little star,\\n\\t How I wonder what you are!\\n\\t\\t Up above the world so high,\\n\\t\\t Like a diamond in the sky.\\nTwinkle, twinkle, little star,\\n\\t How I wonder what you are\")"
   ]
  },
  {
   "cell_type": "code",
   "execution_count": 28,
   "id": "e35a6a74",
   "metadata": {},
   "outputs": [],
   "source": [
    "# 2. Write a Python program to get the Python version you are using"
   ]
  },
  {
   "cell_type": "code",
   "execution_count": 31,
   "id": "58c7bc30",
   "metadata": {},
   "outputs": [
    {
     "name": "stdout",
     "output_type": "stream",
     "text": [
      "Python Version\n",
      "3.8.8 (default, Apr 13 2021, 15:08:03) [MSC v.1916 64 bit (AMD64)]\n",
      "______________________________________________________\n",
      "Version Information\n",
      "sys.version_info(major=3, minor=8, micro=8, releaselevel='final', serial=0)\n"
     ]
    }
   ],
   "source": [
    "import sys\n",
    "print(\"Python Version\")\n",
    "print(sys.version)\n",
    "print(\"______________________________________________________\")\n",
    "print(\"Version Information\")\n",
    "print(sys.version_info)"
   ]
  },
  {
   "cell_type": "code",
   "execution_count": 32,
   "id": "e088d39a",
   "metadata": {},
   "outputs": [],
   "source": [
    "# 3. Write a Python program to display the current date and time."
   ]
  },
  {
   "cell_type": "code",
   "execution_count": 39,
   "id": "8f30456e",
   "metadata": {},
   "outputs": [
    {
     "name": "stdout",
     "output_type": "stream",
     "text": [
      "Current date and time\n",
      "2021-1024 04:37:22\n"
     ]
    }
   ],
   "source": [
    "import datetime\n",
    "cdt = datetime.datetime.now();\n",
    "print(\"Current date and time\");\n",
    "print(cdt.strftime(\"%Y-%m%d %H:%M:%S\"))"
   ]
  },
  {
   "cell_type": "code",
   "execution_count": 40,
   "id": "4db6fb5b",
   "metadata": {},
   "outputs": [],
   "source": [
    "# 4. Write a Python program which accepts the radius of a circle from the user and compute the area."
   ]
  },
  {
   "cell_type": "code",
   "execution_count": 52,
   "id": "b06e6989",
   "metadata": {},
   "outputs": [
    {
     "name": "stdout",
     "output_type": "stream",
     "text": [
      "Please input radius: 4\n",
      "The Area of the ciruce is 50.24\n"
     ]
    }
   ],
   "source": [
    "r = float(input(\"Please input radius: \"))\n",
    "A = 3.14 * r**2\n",
    "print(\"The Area of the ciruce is \" + str(A))"
   ]
  },
  {
   "cell_type": "code",
   "execution_count": 53,
   "id": "5332e6cf",
   "metadata": {},
   "outputs": [],
   "source": [
    "# 5. Write a Python program which accepts the user's first and last name and print them in reverse order with a space between them."
   ]
  },
  {
   "cell_type": "code",
   "execution_count": 56,
   "id": "1a0a5dd9",
   "metadata": {},
   "outputs": [
    {
     "name": "stdout",
     "output_type": "stream",
     "text": [
      "Please input your first name:  umer\n",
      "Please input your Last name:  iqbal\n",
      "iqbal umer\n"
     ]
    }
   ],
   "source": [
    "fname = input(\"Please input your first name:  \");\n",
    "Lname = input(\"Please input your Last name:  \");\n",
    "print(Lname + \" \" + fname)"
   ]
  },
  {
   "cell_type": "code",
   "execution_count": 57,
   "id": "5ac73b6c",
   "metadata": {},
   "outputs": [],
   "source": [
    "# 6. Write a python program which takes two inputs from user and print them addition"
   ]
  },
  {
   "cell_type": "code",
   "execution_count": 64,
   "id": "f876b72c",
   "metadata": {},
   "outputs": [
    {
     "name": "stdout",
     "output_type": "stream",
     "text": [
      "Input first Nubmer: 525\n",
      "Input Second Number: 425\n",
      "your total is 950\n"
     ]
    }
   ],
   "source": [
    "num1 = int(input(\"Input first Nubmer: \"));\n",
    "num2 = int(input(\"Input Second Number: \"));\n",
    "print(\"your total is \" + str(num1 + num2))"
   ]
  },
  {
   "cell_type": "code",
   "execution_count": 65,
   "id": "f48f3302",
   "metadata": {},
   "outputs": [],
   "source": [
    "# 7. Write a program which takes 5 inputs from user for different subject’s marks, total it and generate mark sheet using grades ?"
   ]
  },
  {
   "cell_type": "code",
   "execution_count": 2,
   "id": "3298d918",
   "metadata": {},
   "outputs": [
    {
     "name": "stdout",
     "output_type": "stream",
     "text": [
      "Please inoput your English Number : 80\n",
      "Please inoput your Urdu Number : 80\n",
      "Please inoput your Math Number : 80\n",
      "Please inoput your Statistics Number : 8\n",
      "Please inoput your Physics Number : 80\n",
      "Your Percentage is: 65.6\n",
      "Grade B\n"
     ]
    }
   ],
   "source": [
    "Isl = float(input(\"Please inoput your English Number : \"));\n",
    "Urdu = float(input(\"Please inoput your Urdu Number : \"));\n",
    "Math = float(input(\"Please inoput your Math Number : \"));\n",
    "Stats = float(input(\"Please inoput your Statistics Number : \"));\n",
    "Phy = float(input(\"Please inoput your Physics Number : \"));\n",
    "Total = (Isl + Urdu + Math + Stats + Phy) /5\n",
    "print(\"Your Percentage is: \" + str(Total) )\n",
    "\n",
    "if Total <=100 and Total >= 80:\n",
    "    print(\"Grade A+\");\n",
    "elif Total < 80 and Total >= 70:\n",
    "    print(\"Grade A\");\n",
    "elif Total < 70 and Total >= 60:\n",
    "    print(\"Grade B\");\n",
    "elif Total < 60 and Total >= 50:\n",
    "    print(\"Grade C\");\n",
    "elif Total < 50 and Total >= 40:\n",
    "    print(\"Grade D\");\n",
    "elif Total < 40 and Total >=33:\n",
    "    print(\"Grade E\");\n",
    "else:\n",
    "    print(\"Sorry you are Fail\")"
   ]
  },
  {
   "cell_type": "code",
   "execution_count": 3,
   "id": "2e124300",
   "metadata": {},
   "outputs": [],
   "source": [
    "# 8. Write a program which take input from user and identify that the given number is even or odd?"
   ]
  },
  {
   "cell_type": "code",
   "execution_count": 12,
   "id": "3211e088",
   "metadata": {},
   "outputs": [
    {
     "name": "stdout",
     "output_type": "stream",
     "text": [
      "Enter your Number : 11\n",
      "This is an Odd Number\n"
     ]
    }
   ],
   "source": [
    "odd_even = int(input(\"Enter your Number : \"));\n",
    "if odd_even % 2 > 0:\n",
    "    print(\"This is an Odd Number\");\n",
    "else:\n",
    "    print(\"This an Even Number\")"
   ]
  },
  {
   "cell_type": "code",
   "execution_count": 13,
   "id": "b0e2825b",
   "metadata": {},
   "outputs": [],
   "source": [
    "# 9. Write a program which print the length of the list?"
   ]
  },
  {
   "cell_type": "code",
   "execution_count": 23,
   "id": "f78bc6ab",
   "metadata": {},
   "outputs": [
    {
     "name": "stdout",
     "output_type": "stream",
     "text": [
      "List length is  8\n"
     ]
    }
   ],
   "source": [
    "list = [1,\"Ali\", True, False, 202, \"Hi\", \"Bye\", 0 ]\n",
    "print(\"List length is \",len(list))"
   ]
  },
  {
   "cell_type": "code",
   "execution_count": 30,
   "id": "f612a2d5",
   "metadata": {},
   "outputs": [],
   "source": [
    "# 10. Write a Python program to sum all the numeric items in a list?"
   ]
  },
  {
   "cell_type": "code",
   "execution_count": 14,
   "id": "80066750",
   "metadata": {},
   "outputs": [
    {
     "name": "stdout",
     "output_type": "stream",
     "text": [
      "Your list number total is  607\n"
     ]
    }
   ],
   "source": [
    "list1 = [1,\"Ali\", \"adil\", 101, 202, \"Hi\", \"Bye\", 303 ];\n",
    "sumnum = 0\n",
    "for e in list1:\n",
    "        if type(e) ==int:\n",
    "            sumnum +=e;\n",
    "        else:\n",
    "            sumnum +=0;\n",
    "\n",
    "print(\"Your list number total is \",sumnum)\n",
    "\n",
    "        \n"
   ]
  },
  {
   "cell_type": "code",
   "execution_count": 15,
   "id": "40d4a662",
   "metadata": {},
   "outputs": [],
   "source": [
    "# 11. Write a Python program to get the largest number from a numeric list."
   ]
  },
  {
   "cell_type": "code",
   "execution_count": 18,
   "id": "b7fc470f",
   "metadata": {},
   "outputs": [
    {
     "data": {
      "text/plain": [
       "1045"
      ]
     },
     "execution_count": 18,
     "metadata": {},
     "output_type": "execute_result"
    }
   ],
   "source": [
    "list1 = [502,303,501,607,608,720,299,925,1045,999];\n",
    "max(list1)"
   ]
  },
  {
   "cell_type": "code",
   "execution_count": 19,
   "id": "19b6cece",
   "metadata": {},
   "outputs": [],
   "source": [
    "# 12. Take a list, say for example this one:\n",
    "# # a = [1, 1, 2, 3, 5, 8, 13, 21, 34, 55, 89]\n",
    "# # Write a program that prints out all the elements of the list that are less than 5."
   ]
  },
  {
   "cell_type": "code",
   "execution_count": 26,
   "id": "0f5e2540",
   "metadata": {},
   "outputs": [
    {
     "name": "stdout",
     "output_type": "stream",
     "text": [
      "1\n",
      "1\n",
      "2\n",
      "3\n"
     ]
    }
   ],
   "source": [
    "a = [1, 1, 2, 3, 5, 8, 13, 21, 34, 55, 89];\n",
    "\n",
    "for b in a:\n",
    "    if b <5:\n",
    "        print(b)"
   ]
  },
  {
   "cell_type": "code",
   "execution_count": null,
   "id": "8636d4c2",
   "metadata": {},
   "outputs": [],
   "source": []
  }
 ],
 "metadata": {
  "kernelspec": {
   "display_name": "Python 3",
   "language": "python",
   "name": "python3"
  },
  "language_info": {
   "codemirror_mode": {
    "name": "ipython",
    "version": 3
   },
   "file_extension": ".py",
   "mimetype": "text/x-python",
   "name": "python",
   "nbconvert_exporter": "python",
   "pygments_lexer": "ipython3",
   "version": "3.8.8"
  }
 },
 "nbformat": 4,
 "nbformat_minor": 5
}
